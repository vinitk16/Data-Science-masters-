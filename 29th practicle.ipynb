{
 "cells": [
  {
   "cell_type": "code",
   "execution_count": 2,
   "id": "f2fa6f6a-1bef-499a-9296-e9440fabd42e",
   "metadata": {},
   "outputs": [],
   "source": [
    "a=10"
   ]
  },
  {
   "cell_type": "code",
   "execution_count": 4,
   "id": "cb8e877a-4e75-4439-ae5e-2cc89744bc3e",
   "metadata": {},
   "outputs": [
    {
     "data": {
      "text/plain": [
       "10"
      ]
     },
     "execution_count": 4,
     "metadata": {},
     "output_type": "execute_result"
    }
   ],
   "source": [
    "a"
   ]
  },
  {
   "cell_type": "markdown",
   "id": "7bfc9aa6-41c2-47cf-81e0-9a902691b2d4",
   "metadata": {},
   "source": [
    "1+1 "
   ]
  },
  {
   "cell_type": "markdown",
   "id": "d2119f11-ab8a-4530-81e8-966b6fc14e78",
   "metadata": {},
   "source": [
    "## this is the intro session\n",
    "### Welocome to my home\n",
    "\n",
    "this is the example session"
   ]
  },
  {
   "cell_type": "code",
   "execution_count": 8,
   "id": "a3d54c14-91a6-4b5c-a605-fdbb53bd772e",
   "metadata": {},
   "outputs": [
    {
     "data": {
      "text/plain": [
       "2"
      ]
     },
     "execution_count": 8,
     "metadata": {},
     "output_type": "execute_result"
    }
   ],
   "source": [
    "1+1"
   ]
  },
  {
   "cell_type": "code",
   "execution_count": 8,
   "id": "c85777be-3fda-47d3-ad7e-c81207ed1213",
   "metadata": {},
   "outputs": [
    {
     "data": {
      "text/plain": [
       "2"
      ]
     },
     "execution_count": 8,
     "metadata": {},
     "output_type": "execute_result"
    }
   ],
   "source": [
    "1+1"
   ]
  },
  {
   "cell_type": "code",
   "execution_count": 9,
   "id": "c5b25ee3-2d86-4a40-a5a8-48e648cc5d9a",
   "metadata": {},
   "outputs": [
    {
     "data": {
      "text/plain": [
       "2"
      ]
     },
     "execution_count": 9,
     "metadata": {},
     "output_type": "execute_result"
    }
   ],
   "source": [
    "1+1"
   ]
  },
  {
   "cell_type": "code",
   "execution_count": 10,
   "id": "8b69c2af-482d-4410-9970-9a220d7584d2",
   "metadata": {},
   "outputs": [
    {
     "data": {
      "text/plain": [
       "6"
      ]
     },
     "execution_count": 10,
     "metadata": {},
     "output_type": "execute_result"
    }
   ],
   "source": [
    "4+2"
   ]
  },
  {
   "cell_type": "markdown",
   "id": "0f02131b-d280-4e4c-8234-aafd96ee342e",
   "metadata": {},
   "source": [
    "## This is the Function"
   ]
  },
  {
   "cell_type": "code",
   "execution_count": 15,
   "id": "d27af29c-6a21-4873-ade7-ef13dec14fa7",
   "metadata": {},
   "outputs": [
    {
     "data": {
      "text/plain": [
       "20"
      ]
     },
     "execution_count": 15,
     "metadata": {},
     "output_type": "execute_result"
    }
   ],
   "source": [
    "## this is example \n",
    "a=20\n",
    "a"
   ]
  },
  {
   "cell_type": "code",
   "execution_count": 16,
   "id": "2cbf96b1-ba6b-4c21-8f49-b43eb14c545c",
   "metadata": {},
   "outputs": [
    {
     "data": {
      "text/plain": [
       "40"
      ]
     },
     "execution_count": 16,
     "metadata": {},
     "output_type": "execute_result"
    }
   ],
   "source": [
    "\"\"\"\n",
    "Example of multi line comment \n",
    "this is my first python language session with krish\n",
    "\"\"\"\n",
    "a=40\n",
    "a"
   ]
  },
  {
   "cell_type": "markdown",
   "id": "f6e2804d-db7c-4c3c-ae34-75086276586a",
   "metadata": {},
   "source": [
    "# hello\n",
    "## Hello gyus \n",
    "### I love my india\n",
    "#### I love my oythin workbook\n",
    "1. This is my 1st work sheeet\n"
   ]
  },
  {
   "cell_type": "markdown",
   "id": "6dcc9f93-49a1-4fcd-804a-fe821c98d470",
   "metadata": {},
   "source": [
    "# Numbers"
   ]
  },
  {
   "cell_type": "code",
   "execution_count": 19,
   "id": "1f21fcc8-c505-42dd-add1-0f64e7993a4b",
   "metadata": {},
   "outputs": [
    {
     "data": {
      "text/plain": [
       "5"
      ]
     },
     "execution_count": 19,
     "metadata": {},
     "output_type": "execute_result"
    }
   ],
   "source": [
    "1+4"
   ]
  },
  {
   "cell_type": "code",
   "execution_count": 20,
   "id": "8b3a81f8-4a92-4515-8be2-2982e86b9f6f",
   "metadata": {},
   "outputs": [
    {
     "name": "stdout",
     "output_type": "stream",
     "text": [
      "8\n"
     ]
    }
   ],
   "source": [
    "print(1+7)"
   ]
  },
  {
   "cell_type": "code",
   "execution_count": 21,
   "id": "1d7825bf-4a22-4397-9bcd-70983fa9d319",
   "metadata": {},
   "outputs": [
    {
     "name": "stdout",
     "output_type": "stream",
     "text": [
      "heloo worls\n"
     ]
    }
   ],
   "source": [
    "print(\"heloo worls\")"
   ]
  },
  {
   "cell_type": "code",
   "execution_count": 23,
   "id": "c3fe3d65-8e92-431b-97ac-1a9a931a3bc4",
   "metadata": {},
   "outputs": [
    {
     "name": "stdout",
     "output_type": "stream",
     "text": [
      "7\n"
     ]
    }
   ],
   "source": [
    "print(1+6)"
   ]
  },
  {
   "cell_type": "code",
   "execution_count": 25,
   "id": "b6c4ce92-f596-4447-b167-ce2e99c73280",
   "metadata": {},
   "outputs": [
    {
     "data": {
      "text/plain": [
       "int"
      ]
     },
     "execution_count": 25,
     "metadata": {},
     "output_type": "execute_result"
    }
   ],
   "source": [
    "type(7)"
   ]
  },
  {
   "cell_type": "code",
   "execution_count": 28,
   "id": "05c507c9-9427-4522-96f1-68975c34f2e5",
   "metadata": {},
   "outputs": [
    {
     "data": {
      "text/plain": [
       "20"
      ]
     },
     "execution_count": 28,
     "metadata": {},
     "output_type": "execute_result"
    }
   ],
   "source": [
    "number=20\n",
    "number"
   ]
  },
  {
   "cell_type": "code",
   "execution_count": null,
   "id": "501be0d3-1c92-4517-a7b6-c0ee6b0cac33",
   "metadata": {},
   "outputs": [],
   "source": [
    "decimal_num=2.5"
   ]
  },
  {
   "cell_type": "code",
   "execution_count": 37,
   "id": "a0d852c1-6ef8-48fd-96ea-6f5742a2eade",
   "metadata": {},
   "outputs": [
    {
     "data": {
      "text/plain": [
       "2.5"
      ]
     },
     "execution_count": 37,
     "metadata": {},
     "output_type": "execute_result"
    }
   ],
   "source": [
    "decimal_num"
   ]
  },
  {
   "cell_type": "code",
   "execution_count": 38,
   "id": "79cc9221-e5f0-4051-8bd6-4f36ae337f34",
   "metadata": {},
   "outputs": [
    {
     "data": {
      "text/plain": [
       "float"
      ]
     },
     "execution_count": 38,
     "metadata": {},
     "output_type": "execute_result"
    }
   ],
   "source": [
    "type(decimal_num)"
   ]
  },
  {
   "cell_type": "code",
   "execution_count": 39,
   "id": "fd7fe2e4-304d-4b87-a295-fb279f4eba52",
   "metadata": {},
   "outputs": [
    {
     "data": {
      "text/plain": [
       "(1+2j)"
      ]
     },
     "execution_count": 39,
     "metadata": {},
     "output_type": "execute_result"
    }
   ],
   "source": [
    "1+2j"
   ]
  },
  {
   "cell_type": "code",
   "execution_count": 40,
   "id": "e73f7a15-2ea5-439f-94c8-9abf847788b9",
   "metadata": {},
   "outputs": [
    {
     "data": {
      "text/plain": [
       "complex"
      ]
     },
     "execution_count": 40,
     "metadata": {},
     "output_type": "execute_result"
    }
   ],
   "source": [
    "type(1+2j)"
   ]
  },
  {
   "cell_type": "code",
   "execution_count": 42,
   "id": "6c862bf8-63d2-4299-92d1-f36769b2a596",
   "metadata": {},
   "outputs": [
    {
     "name": "stdout",
     "output_type": "stream",
     "text": [
      "hello\n"
     ]
    }
   ],
   "source": [
    "print(\"hello\")"
   ]
  },
  {
   "cell_type": "markdown",
   "id": "f692321d-252e-4671-b438-5b3b0176df79",
   "metadata": {},
   "source": [
    "# bad day\n",
    "## dont start"
   ]
  },
  {
   "cell_type": "code",
   "execution_count": 47,
   "id": "c878b3a7-d0c5-4871-9482-5f9f3f0fef98",
   "metadata": {},
   "outputs": [
    {
     "name": "stdout",
     "output_type": "stream",
     "text": [
      "pwskills\n",
      "ineuron\n"
     ]
    }
   ],
   "source": [
    "## variable name are case sensetive \n",
    "company='ineuron'\n",
    "comapny='pwskills'\n",
    "print(comapny)\n",
    "print(company)"
   ]
  },
  {
   "cell_type": "markdown",
   "id": "83e39a9c-c056-420e-b25e-ab6fa37f36f5",
   "metadata": {},
   "source": []
  },
  {
   "cell_type": "code",
   "execution_count": 52,
   "id": "93f11a32-b895-4322-9bcb-69f51259e32f",
   "metadata": {},
   "outputs": [
    {
     "data": {
      "text/plain": [
       "True"
      ]
     },
     "execution_count": 52,
     "metadata": {},
     "output_type": "execute_result"
    }
   ],
   "source": [
    "# Boolean\n",
    "True"
   ]
  },
  {
   "cell_type": "code",
   "execution_count": 53,
   "id": "19779a8b-ba80-4a48-89ee-40efa1834a56",
   "metadata": {},
   "outputs": [
    {
     "data": {
      "text/plain": [
       "False"
      ]
     },
     "execution_count": 53,
     "metadata": {},
     "output_type": "execute_result"
    }
   ],
   "source": [
    "False"
   ]
  },
  {
   "cell_type": "code",
   "execution_count": 54,
   "id": "83b4811e-e29e-4880-a2e9-c8ad6d0a2233",
   "metadata": {},
   "outputs": [
    {
     "data": {
      "text/plain": [
       "False"
      ]
     },
     "execution_count": 54,
     "metadata": {},
     "output_type": "execute_result"
    }
   ],
   "source": [
    "True and False "
   ]
  },
  {
   "cell_type": "code",
   "execution_count": 55,
   "id": "4441c34b-6d41-439a-8a56-9e172f69d4e2",
   "metadata": {},
   "outputs": [
    {
     "data": {
      "text/plain": [
       "True"
      ]
     },
     "execution_count": 55,
     "metadata": {},
     "output_type": "execute_result"
    }
   ],
   "source": [
    "True or False"
   ]
  },
  {
   "cell_type": "code",
   "execution_count": 56,
   "id": "1ed46f29-44e1-436c-98e6-1bb44f7b3e62",
   "metadata": {},
   "outputs": [
    {
     "data": {
      "text/plain": [
       "False"
      ]
     },
     "execution_count": 56,
     "metadata": {},
     "output_type": "execute_result"
    }
   ],
   "source": [
    "not True"
   ]
  },
  {
   "cell_type": "code",
   "execution_count": 57,
   "id": "d1e5a8a8-49cb-48c2-856b-6f322d4a445f",
   "metadata": {},
   "outputs": [
    {
     "data": {
      "text/plain": [
       "True"
      ]
     },
     "execution_count": 57,
     "metadata": {},
     "output_type": "execute_result"
    }
   ],
   "source": [
    "not False"
   ]
  },
  {
   "cell_type": "code",
   "execution_count": 58,
   "id": "4f71d974-51a0-4006-9fa8-ce3d746539f2",
   "metadata": {},
   "outputs": [
    {
     "name": "stdout",
     "output_type": "stream",
     "text": [
      "True\n"
     ]
    }
   ],
   "source": [
    "a=1\n",
    "if bool(a)==True:\n",
    "    print(\"True\")"
   ]
  },
  {
   "cell_type": "markdown",
   "id": "5914c677-d522-4956-9226-a8df56cc01d2",
   "metadata": {},
   "source": [
    "### Dynamic Typing"
   ]
  },
  {
   "cell_type": "code",
   "execution_count": 59,
   "id": "9d37bcbe-416b-49ce-8fe5-657a770864db",
   "metadata": {},
   "outputs": [
    {
     "data": {
      "text/plain": [
       "1"
      ]
     },
     "execution_count": 59,
     "metadata": {},
     "output_type": "execute_result"
    }
   ],
   "source": [
    "int(1.45)"
   ]
  },
  {
   "cell_type": "markdown",
   "id": "f24719c1-4df7-4f10-a0f5-4ff830eb0aef",
   "metadata": {},
   "source": [
    "## concatenation between different types"
   ]
  },
  {
   "cell_type": "code",
   "execution_count": 61,
   "id": "51c0f346-e1dd-4c14-bead-0c9934001cd8",
   "metadata": {},
   "outputs": [
    {
     "data": {
      "text/plain": [
       "'11'"
      ]
     },
     "execution_count": 61,
     "metadata": {},
     "output_type": "execute_result"
    }
   ],
   "source": [
    "\"1\" + \"1\""
   ]
  },
  {
   "cell_type": "code",
   "execution_count": null,
   "id": "38b71cc2-469d-44ef-9516-f50cd399c0d9",
   "metadata": {},
   "outputs": [],
   "source": []
  },
  {
   "cell_type": "code",
   "execution_count": 62,
   "id": "0cc1dea6-edbc-4251-95a8-6bfcc2f9757b",
   "metadata": {},
   "outputs": [
    {
     "ename": "SyntaxError",
     "evalue": "invalid syntax (1526010015.py, line 1)",
     "output_type": "error",
     "traceback": [
      "\u001b[0;36m  Cell \u001b[0;32mIn[62], line 1\u001b[0;36m\u001b[0m\n\u001b[0;31m    int \"1\" + \"1\"\u001b[0m\n\u001b[0m        ^\u001b[0m\n\u001b[0;31mSyntaxError\u001b[0m\u001b[0;31m:\u001b[0m invalid syntax\n"
     ]
    }
   ],
   "source": [
    " int \"1\" + \"1\""
   ]
  },
  {
   "cell_type": "code",
   "execution_count": 66,
   "id": "9b5faca9-e759-4425-a6df-d49c56218203",
   "metadata": {},
   "outputs": [
    {
     "data": {
      "text/plain": [
       "'1111111111111111111111111111111111111111111111111111111111111111111111111111111111111111111111111111'"
      ]
     },
     "execution_count": 66,
     "metadata": {},
     "output_type": "execute_result"
    }
   ],
   "source": [
    "\"1\" * 100"
   ]
  },
  {
   "cell_type": "code",
   "execution_count": null,
   "id": "28376e0f-b14a-4a30-83ab-9cf3dbfc7e07",
   "metadata": {},
   "outputs": [],
   "source": []
  },
  {
   "cell_type": "code",
   "execution_count": null,
   "id": "39735440-d2fa-4f9e-8407-60c12c61eb9d",
   "metadata": {},
   "outputs": [],
   "source": []
  },
  {
   "cell_type": "code",
   "execution_count": null,
   "id": "d818b9c8-c14a-4f60-9fbe-f9cd3a484cff",
   "metadata": {},
   "outputs": [],
   "source": []
  },
  {
   "cell_type": "code",
   "execution_count": null,
   "id": "19a5a454-b5a5-45e2-be2e-caf27edab49c",
   "metadata": {},
   "outputs": [],
   "source": []
  },
  {
   "cell_type": "code",
   "execution_count": null,
   "id": "df687950-5bd6-46bc-a666-29bc284b5e94",
   "metadata": {},
   "outputs": [],
   "source": []
  },
  {
   "cell_type": "code",
   "execution_count": null,
   "id": "a07222f8-1939-4ae7-bc47-66f4d8a1c5d5",
   "metadata": {},
   "outputs": [],
   "source": []
  },
  {
   "cell_type": "code",
   "execution_count": null,
   "id": "232f8640-4414-4c51-b604-9e96fdb1a11e",
   "metadata": {},
   "outputs": [],
   "source": []
  },
  {
   "cell_type": "code",
   "execution_count": null,
   "id": "3a984d20-1afc-442f-8415-ec7e6e122422",
   "metadata": {},
   "outputs": [],
   "source": []
  },
  {
   "cell_type": "code",
   "execution_count": null,
   "id": "9f486071-9e8e-49c8-9eb3-5c1b63447256",
   "metadata": {},
   "outputs": [],
   "source": []
  },
  {
   "cell_type": "code",
   "execution_count": null,
   "id": "9afd2c5c-bcc0-46c4-9964-54d853a7113c",
   "metadata": {},
   "outputs": [],
   "source": []
  }
 ],
 "metadata": {
  "kernelspec": {
   "display_name": "Python 3 (ipykernel)",
   "language": "python",
   "name": "python3"
  },
  "language_info": {
   "codemirror_mode": {
    "name": "ipython",
    "version": 3
   },
   "file_extension": ".py",
   "mimetype": "text/x-python",
   "name": "python",
   "nbconvert_exporter": "python",
   "pygments_lexer": "ipython3",
   "version": "3.10.8"
  }
 },
 "nbformat": 4,
 "nbformat_minor": 5
}
